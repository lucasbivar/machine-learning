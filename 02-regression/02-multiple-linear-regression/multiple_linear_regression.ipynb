{
 "cells": [
  {
   "cell_type": "markdown",
   "metadata": {
    "colab_type": "text",
    "id": "CazISR8X_HUG"
   },
   "source": [
    "# **Multiple Linear Regression**\n",
    "<hr>\n",
    "\n",
    "Multiple Linear Regression is used to model the relationship is between two or more independent variables and one dependent variable."
   ]
  },
  {
   "cell_type": "markdown",
   "metadata": {},
   "source": [
    "### **Formula:**\n",
    "\n",
    "$$\n",
    "y = b_0 + b_1 \\cdot x_1 + b_2 \\cdot x_2 +  ...  + b_n \\cdot x_n\n",
    "$$\n",
    "\n",
    "- **y** - Dependent Variable\n",
    "- **x_n** - Independent Variables\n",
    "- **b_0** - Constant\n",
    "- **b_n** - Coefficient - The sign and the value of the coefficient indicate how much has relationship is and the direction of the relationship between a dependent variable and the independent \n",
    "\n",
    "**Assumptions of a Linear Regression:**\n",
    "1. **Linearity:** There must be a linear relationship between the dependent variable and the independent variables. Scatterplots can show whether there is a linear or curvilinear relationship.\n",
    "2. **Homoscedasticity:** This assumption states that the variance of error terms is similar across the values of the independent variables. A plot of standardized residuals versus predicted values can show whether points are equally distributed across all values of the independent variables.\n",
    "3. **Multivariate normality:** Multiple Linear Regression assumes that the residuals (the differences between the observed value of the dependent variable y and the predicted value yˆ are normally distributed.\n",
    "4. **Independence of errors:** Multiple Linear Regression assumes that the residuals (the differences between the observed value of the dependent variable y and the predicted value yˆ are independent.\n",
    "5. **Lack of multicollinearity:** Multiple Linear Regression assumes that the independent variables are not highly correlated with each other. This assumption is tested using Variance Inflation Factor (VIF) values.\n",
    "\n",
    "**In practice, we don't need to worry about these assumptions, when you try several regression models and the multiple linear regression performs poorly, it's because the data don't follow this assumption, and we have better algorithms to perform this task with greater accuracy.**\n",
    "\n",
    "### **Dummy Variables Trap**\n",
    "![](https://i.imgur.com/B5u1DHN.png)\n",
    "\n",
    "In this case, b0 won't be the same whether we keep both dummy variables or one single dummy variable in the Multiple Linear Regression equation.\n",
    "\n",
    "What is important to understand is that:\n",
    "\n",
    "- if we have 2 dummy variables, then the value of one determines the value of the other;\n",
    "\n",
    "- if we have 3 dummy variables (like 3 states), the values of two dummy variables determine the value of the third one;\n",
    "\n",
    "- if we have n dummy variables, the values of n-1 dummy variables determine the value of the n-th one;\n",
    "\n",
    "And the value of the last dummy variable, that is determined by the values of the other dummy variables and that is removed, is going include into the constant.\n",
    "\n",
    "In other words, we always have omit one dummy variable in our dataset for each original feature.\n",
    "\n",
    "### **5 methods of building models**\n",
    "1. All-in\n",
    "2. Backward Elimination\n",
    "3. Forward Selection\n",
    "4. Bidirecional Elimination\n",
    "5. Score Comparation"
   ]
  },
  {
   "cell_type": "markdown",
   "metadata": {
    "colab_type": "text",
    "id": "pOyqYHTk_Q57"
   },
   "source": [
    "## **Importing the libraries**\n",
    "<hr>"
   ]
  },
  {
   "cell_type": "code",
   "execution_count": 1,
   "metadata": {
    "colab": {},
    "colab_type": "code",
    "id": "T_YHJjnD_Tja"
   },
   "outputs": [],
   "source": [
    "import numpy as np\n",
    "import matplotlib.pyplot as plt\n",
    "import pandas as pd\n",
    "import seaborn as sns"
   ]
  },
  {
   "cell_type": "markdown",
   "metadata": {
    "colab_type": "text",
    "id": "vgC61-ah_WIz"
   },
   "source": [
    "## **Importing the dataset**\n",
    "<hr>"
   ]
  },
  {
   "cell_type": "code",
   "execution_count": 2,
   "metadata": {
    "colab": {},
    "colab_type": "code",
    "id": "UrxyEKGn_ez7"
   },
   "outputs": [
    {
     "data": {
      "text/html": [
       "<div>\n",
       "<style scoped>\n",
       "    .dataframe tbody tr th:only-of-type {\n",
       "        vertical-align: middle;\n",
       "    }\n",
       "\n",
       "    .dataframe tbody tr th {\n",
       "        vertical-align: top;\n",
       "    }\n",
       "\n",
       "    .dataframe thead th {\n",
       "        text-align: right;\n",
       "    }\n",
       "</style>\n",
       "<table border=\"1\" class=\"dataframe\">\n",
       "  <thead>\n",
       "    <tr style=\"text-align: right;\">\n",
       "      <th></th>\n",
       "      <th>R&amp;D Spend</th>\n",
       "      <th>Administration</th>\n",
       "      <th>Marketing Spend</th>\n",
       "      <th>State</th>\n",
       "      <th>Profit</th>\n",
       "    </tr>\n",
       "  </thead>\n",
       "  <tbody>\n",
       "    <tr>\n",
       "      <th>0</th>\n",
       "      <td>165349.20</td>\n",
       "      <td>136897.80</td>\n",
       "      <td>471784.10</td>\n",
       "      <td>New York</td>\n",
       "      <td>192261.83</td>\n",
       "    </tr>\n",
       "    <tr>\n",
       "      <th>1</th>\n",
       "      <td>162597.70</td>\n",
       "      <td>151377.59</td>\n",
       "      <td>443898.53</td>\n",
       "      <td>California</td>\n",
       "      <td>191792.06</td>\n",
       "    </tr>\n",
       "    <tr>\n",
       "      <th>2</th>\n",
       "      <td>153441.51</td>\n",
       "      <td>101145.55</td>\n",
       "      <td>407934.54</td>\n",
       "      <td>Florida</td>\n",
       "      <td>191050.39</td>\n",
       "    </tr>\n",
       "    <tr>\n",
       "      <th>3</th>\n",
       "      <td>144372.41</td>\n",
       "      <td>118671.85</td>\n",
       "      <td>383199.62</td>\n",
       "      <td>New York</td>\n",
       "      <td>182901.99</td>\n",
       "    </tr>\n",
       "    <tr>\n",
       "      <th>4</th>\n",
       "      <td>142107.34</td>\n",
       "      <td>91391.77</td>\n",
       "      <td>366168.42</td>\n",
       "      <td>Florida</td>\n",
       "      <td>166187.94</td>\n",
       "    </tr>\n",
       "  </tbody>\n",
       "</table>\n",
       "</div>"
      ],
      "text/plain": [
       "   R&D Spend  Administration  Marketing Spend       State     Profit\n",
       "0  165349.20       136897.80        471784.10    New York  192261.83\n",
       "1  162597.70       151377.59        443898.53  California  191792.06\n",
       "2  153441.51       101145.55        407934.54     Florida  191050.39\n",
       "3  144372.41       118671.85        383199.62    New York  182901.99\n",
       "4  142107.34        91391.77        366168.42     Florida  166187.94"
      ]
     },
     "execution_count": 2,
     "metadata": {},
     "output_type": "execute_result"
    }
   ],
   "source": [
    "df = pd.read_csv('50_Startups.csv')\n",
    "df.head()"
   ]
  },
  {
   "cell_type": "code",
   "execution_count": 3,
   "metadata": {},
   "outputs": [
    {
     "data": {
      "text/html": [
       "<div>\n",
       "<style scoped>\n",
       "    .dataframe tbody tr th:only-of-type {\n",
       "        vertical-align: middle;\n",
       "    }\n",
       "\n",
       "    .dataframe tbody tr th {\n",
       "        vertical-align: top;\n",
       "    }\n",
       "\n",
       "    .dataframe thead th {\n",
       "        text-align: right;\n",
       "    }\n",
       "</style>\n",
       "<table border=\"1\" class=\"dataframe\">\n",
       "  <thead>\n",
       "    <tr style=\"text-align: right;\">\n",
       "      <th></th>\n",
       "      <th>R&amp;D Spend</th>\n",
       "      <th>Administration</th>\n",
       "      <th>Marketing Spend</th>\n",
       "      <th>Profit</th>\n",
       "    </tr>\n",
       "  </thead>\n",
       "  <tbody>\n",
       "    <tr>\n",
       "      <th>count</th>\n",
       "      <td>50.000000</td>\n",
       "      <td>50.000000</td>\n",
       "      <td>50.000000</td>\n",
       "      <td>50.000000</td>\n",
       "    </tr>\n",
       "    <tr>\n",
       "      <th>mean</th>\n",
       "      <td>73721.615600</td>\n",
       "      <td>121344.639600</td>\n",
       "      <td>211025.097800</td>\n",
       "      <td>112012.639200</td>\n",
       "    </tr>\n",
       "    <tr>\n",
       "      <th>std</th>\n",
       "      <td>45902.256482</td>\n",
       "      <td>28017.802755</td>\n",
       "      <td>122290.310726</td>\n",
       "      <td>40306.180338</td>\n",
       "    </tr>\n",
       "    <tr>\n",
       "      <th>min</th>\n",
       "      <td>0.000000</td>\n",
       "      <td>51283.140000</td>\n",
       "      <td>0.000000</td>\n",
       "      <td>14681.400000</td>\n",
       "    </tr>\n",
       "    <tr>\n",
       "      <th>25%</th>\n",
       "      <td>39936.370000</td>\n",
       "      <td>103730.875000</td>\n",
       "      <td>129300.132500</td>\n",
       "      <td>90138.902500</td>\n",
       "    </tr>\n",
       "    <tr>\n",
       "      <th>50%</th>\n",
       "      <td>73051.080000</td>\n",
       "      <td>122699.795000</td>\n",
       "      <td>212716.240000</td>\n",
       "      <td>107978.190000</td>\n",
       "    </tr>\n",
       "    <tr>\n",
       "      <th>75%</th>\n",
       "      <td>101602.800000</td>\n",
       "      <td>144842.180000</td>\n",
       "      <td>299469.085000</td>\n",
       "      <td>139765.977500</td>\n",
       "    </tr>\n",
       "    <tr>\n",
       "      <th>max</th>\n",
       "      <td>165349.200000</td>\n",
       "      <td>182645.560000</td>\n",
       "      <td>471784.100000</td>\n",
       "      <td>192261.830000</td>\n",
       "    </tr>\n",
       "  </tbody>\n",
       "</table>\n",
       "</div>"
      ],
      "text/plain": [
       "           R&D Spend  Administration  Marketing Spend         Profit\n",
       "count      50.000000       50.000000        50.000000      50.000000\n",
       "mean    73721.615600   121344.639600    211025.097800  112012.639200\n",
       "std     45902.256482    28017.802755    122290.310726   40306.180338\n",
       "min         0.000000    51283.140000         0.000000   14681.400000\n",
       "25%     39936.370000   103730.875000    129300.132500   90138.902500\n",
       "50%     73051.080000   122699.795000    212716.240000  107978.190000\n",
       "75%    101602.800000   144842.180000    299469.085000  139765.977500\n",
       "max    165349.200000   182645.560000    471784.100000  192261.830000"
      ]
     },
     "execution_count": 3,
     "metadata": {},
     "output_type": "execute_result"
    }
   ],
   "source": [
    "df.describe()"
   ]
  },
  {
   "cell_type": "code",
   "execution_count": 4,
   "metadata": {},
   "outputs": [
    {
     "data": {
      "text/plain": [
       "<AxesSubplot:>"
      ]
     },
     "execution_count": 4,
     "metadata": {},
     "output_type": "execute_result"
    },
    {
     "data": {
      "image/png": "[encoded data removed]",
      "text/plain": [
       "<Figure size 432x288 with 2 Axes>"
      ]
     },
     "metadata": {
      "needs_background": "light"
     },
     "output_type": "display_data"
    }
   ],
   "source": [
    "corr = df.corr()\n",
    "sns.heatmap(corr, cmap=\"coolwarm\", annot=True)"
   ]
  },
  {
   "cell_type": "markdown",
   "metadata": {},
   "source": [
    "Since the \"Marketing Spend\" variable has a high correlation with \"R&D Spend\" we're going to remove the \"Marketing Spend\" column to avoid data redundancy. \"Marketing Spend\" was choose because has negative correlation with \"Administration\" and \"R&D Spend\" not."
   ]
  },
  {
   "cell_type": "code",
   "execution_count": 5,
   "metadata": {},
   "outputs": [],
   "source": [
    "df.drop([\"Marketing Spend\"], axis=1, inplace=True)"
   ]
  },
  {
   "cell_type": "code",
   "execution_count": 6,
   "metadata": {},
   "outputs": [],
   "source": [
    "X = df.iloc[:, :-1].values\n",
    "y = df.iloc[:, -1].values"
   ]
  },
  {
   "cell_type": "code",
   "execution_count": 7,
   "metadata": {},
   "outputs": [
    {
     "data": {
      "text/plain": [
       "array([[165349.2, 136897.8, 'New York'],\n",
       "       [162597.7, 151377.59, 'California'],\n",
       "       [153441.51, 101145.55, 'Florida'],\n",
       "       [144372.41, 118671.85, 'New York'],\n",
       "       [142107.34, 91391.77, 'Florida'],\n",
       "       [131876.9, 99814.71, 'New York'],\n",
       "       [134615.46, 147198.87, 'California'],\n",
       "       [130298.13, 145530.06, 'Florida'],\n",
       "       [120542.52, 148718.95, 'New York'],\n",
       "       [123334.88, 108679.17, 'California'],\n",
       "       [101913.08, 110594.11, 'Florida'],\n",
       "       [100671.96, 91790.61, 'California'],\n",
       "       [93863.75, 127320.38, 'Florida'],\n",
       "       [91992.39, 135495.07, 'California'],\n",
       "       [119943.24, 156547.42, 'Florida'],\n",
       "       [114523.61, 122616.84, 'New York'],\n",
       "       [78013.11, 121597.55, 'California'],\n",
       "       [94657.16, 145077.58, 'New York'],\n",
       "       [91749.16, 114175.79, 'Florida'],\n",
       "       [86419.7, 153514.11, 'New York'],\n",
       "       [76253.86, 113867.3, 'California'],\n",
       "       [78389.47, 153773.43, 'New York'],\n",
       "       [73994.56, 122782.75, 'Florida'],\n",
       "       [67532.53, 105751.03, 'Florida'],\n",
       "       [77044.01, 99281.34, 'New York'],\n",
       "       [64664.71, 139553.16, 'California'],\n",
       "       [75328.87, 144135.98, 'Florida'],\n",
       "       [72107.6, 127864.55, 'New York'],\n",
       "       [66051.52, 182645.56, 'Florida'],\n",
       "       [65605.48, 153032.06, 'New York'],\n",
       "       [61994.48, 115641.28, 'Florida'],\n",
       "       [61136.38, 152701.92, 'New York'],\n",
       "       [63408.86, 129219.61, 'California'],\n",
       "       [55493.95, 103057.49, 'Florida'],\n",
       "       [46426.07, 157693.92, 'California'],\n",
       "       [46014.02, 85047.44, 'New York'],\n",
       "       [28663.76, 127056.21, 'Florida'],\n",
       "       [44069.95, 51283.14, 'California'],\n",
       "       [20229.59, 65947.93, 'New York'],\n",
       "       [38558.51, 82982.09, 'California'],\n",
       "       [28754.33, 118546.05, 'California'],\n",
       "       [27892.92, 84710.77, 'Florida'],\n",
       "       [23640.93, 96189.63, 'California'],\n",
       "       [15505.73, 127382.3, 'New York'],\n",
       "       [22177.74, 154806.14, 'California'],\n",
       "       [1000.23, 124153.04, 'New York'],\n",
       "       [1315.46, 115816.21, 'Florida'],\n",
       "       [0.0, 135426.92, 'California'],\n",
       "       [542.05, 51743.15, 'New York'],\n",
       "       [0.0, 116983.8, 'California']], dtype=object)"
      ]
     },
     "execution_count": 7,
     "metadata": {},
     "output_type": "execute_result"
    }
   ],
   "source": [
    "X"
   ]
  },
  {
   "cell_type": "code",
   "execution_count": 8,
   "metadata": {},
   "outputs": [
    {
     "data": {
      "text/plain": [
       "array([192261.83, 191792.06, 191050.39, 182901.99, 166187.94, 156991.12,\n",
       "       156122.51, 155752.6 , 152211.77, 149759.96, 146121.95, 144259.4 ,\n",
       "       141585.52, 134307.35, 132602.65, 129917.04, 126992.93, 125370.37,\n",
       "       124266.9 , 122776.86, 118474.03, 111313.02, 110352.25, 108733.99,\n",
       "       108552.04, 107404.34, 105733.54, 105008.31, 103282.38, 101004.64,\n",
       "        99937.59,  97483.56,  97427.84,  96778.92,  96712.8 ,  96479.51,\n",
       "        90708.19,  89949.14,  81229.06,  81005.76,  78239.91,  77798.83,\n",
       "        71498.49,  69758.98,  65200.33,  64926.08,  49490.75,  42559.73,\n",
       "        35673.41,  14681.4 ])"
      ]
     },
     "execution_count": 8,
     "metadata": {},
     "output_type": "execute_result"
    }
   ],
   "source": [
    "y"
   ]
  },
  {
   "cell_type": "markdown",
   "metadata": {
    "colab_type": "text",
    "id": "VadrvE7s_lS9"
   },
   "source": [
    "## **Encoding categorical data**\n",
    "<hr>"
   ]
  },
  {
   "cell_type": "code",
   "execution_count": 9,
   "metadata": {},
   "outputs": [
    {
     "data": {
      "text/plain": [
       "array([[0.0, 0.0, 1.0, 165349.2, 136897.8],\n",
       "       [1.0, 0.0, 0.0, 162597.7, 151377.59],\n",
       "       [0.0, 1.0, 0.0, 153441.51, 101145.55],\n",
       "       [0.0, 0.0, 1.0, 144372.41, 118671.85],\n",
       "       [0.0, 1.0, 0.0, 142107.34, 91391.77],\n",
       "       [0.0, 0.0, 1.0, 131876.9, 99814.71],\n",
       "       [1.0, 0.0, 0.0, 134615.46, 147198.87],\n",
       "       [0.0, 1.0, 0.0, 130298.13, 145530.06],\n",
       "       [0.0, 0.0, 1.0, 120542.52, 148718.95],\n",
       "       [1.0, 0.0, 0.0, 123334.88, 108679.17],\n",
       "       [0.0, 1.0, 0.0, 101913.08, 110594.11],\n",
       "       [1.0, 0.0, 0.0, 100671.96, 91790.61],\n",
       "       [0.0, 1.0, 0.0, 93863.75, 127320.38],\n",
       "       [1.0, 0.0, 0.0, 91992.39, 135495.07],\n",
       "       [0.0, 1.0, 0.0, 119943.24, 156547.42],\n",
       "       [0.0, 0.0, 1.0, 114523.61, 122616.84],\n",
       "       [1.0, 0.0, 0.0, 78013.11, 121597.55],\n",
       "       [0.0, 0.0, 1.0, 94657.16, 145077.58],\n",
       "       [0.0, 1.0, 0.0, 91749.16, 114175.79],\n",
       "       [0.0, 0.0, 1.0, 86419.7, 153514.11],\n",
       "       [1.0, 0.0, 0.0, 76253.86, 113867.3],\n",
       "       [0.0, 0.0, 1.0, 78389.47, 153773.43],\n",
       "       [0.0, 1.0, 0.0, 73994.56, 122782.75],\n",
       "       [0.0, 1.0, 0.0, 67532.53, 105751.03],\n",
       "       [0.0, 0.0, 1.0, 77044.01, 99281.34],\n",
       "       [1.0, 0.0, 0.0, 64664.71, 139553.16],\n",
       "       [0.0, 1.0, 0.0, 75328.87, 144135.98],\n",
       "       [0.0, 0.0, 1.0, 72107.6, 127864.55],\n",
       "       [0.0, 1.0, 0.0, 66051.52, 182645.56],\n",
       "       [0.0, 0.0, 1.0, 65605.48, 153032.06],\n",
       "       [0.0, 1.0, 0.0, 61994.48, 115641.28],\n",
       "       [0.0, 0.0, 1.0, 61136.38, 152701.92],\n",
       "       [1.0, 0.0, 0.0, 63408.86, 129219.61],\n",
       "       [0.0, 1.0, 0.0, 55493.95, 103057.49],\n",
       "       [1.0, 0.0, 0.0, 46426.07, 157693.92],\n",
       "       [0.0, 0.0, 1.0, 46014.02, 85047.44],\n",
       "       [0.0, 1.0, 0.0, 28663.76, 127056.21],\n",
       "       [1.0, 0.0, 0.0, 44069.95, 51283.14],\n",
       "       [0.0, 0.0, 1.0, 20229.59, 65947.93],\n",
       "       [1.0, 0.0, 0.0, 38558.51, 82982.09],\n",
       "       [1.0, 0.0, 0.0, 28754.33, 118546.05],\n",
       "       [0.0, 1.0, 0.0, 27892.92, 84710.77],\n",
       "       [1.0, 0.0, 0.0, 23640.93, 96189.63],\n",
       "       [0.0, 0.0, 1.0, 15505.73, 127382.3],\n",
       "       [1.0, 0.0, 0.0, 22177.74, 154806.14],\n",
       "       [0.0, 0.0, 1.0, 1000.23, 124153.04],\n",
       "       [0.0, 1.0, 0.0, 1315.46, 115816.21],\n",
       "       [1.0, 0.0, 0.0, 0.0, 135426.92],\n",
       "       [0.0, 0.0, 1.0, 542.05, 51743.15],\n",
       "       [1.0, 0.0, 0.0, 0.0, 116983.8]], dtype=object)"
      ]
     },
     "execution_count": 9,
     "metadata": {},
     "output_type": "execute_result"
    }
   ],
   "source": [
    "from sklearn.preprocessing import OneHotEncoder\n",
    "from sklearn.compose import ColumnTransformer\n",
    "\n",
    "                      #transformers = [(type, transformer, columns)], remainder= \"drop\" or \"passthrough\" \n",
    "ct = ColumnTransformer(transformers=[(\"encoder\", OneHotEncoder(), [2])], remainder=\"passthrough\")\n",
    "X = np.array(ct.fit_transform(X))\n",
    "X"
   ]
  },
  {
   "cell_type": "markdown",
   "metadata": {},
   "source": [
    "- [0, 0, 1, ...] - New York\n",
    "- [0, 1, 0, ...] - Florida\n",
    "- [1, 0, 0, ...] - California"
   ]
  },
  {
   "cell_type": "markdown",
   "metadata": {
    "colab_type": "text",
    "id": "WemVnqgeA70k"
   },
   "source": [
    "## **Splitting the dataset into the Training set and Test set**\n",
    "<hr>"
   ]
  },
  {
   "cell_type": "code",
   "execution_count": 10,
   "metadata": {},
   "outputs": [],
   "source": [
    "from sklearn.model_selection import train_test_split\n",
    "X_train, X_test, y_train, y_test = train_test_split(X, y, test_size=1/5 ,random_state=0)"
   ]
  },
  {
   "cell_type": "markdown",
   "metadata": {
    "colab_type": "text",
    "id": "k-McZVsQBINc"
   },
   "source": [
    "## **Training the Multiple Linear Regression model on the Training set**\n",
    "<hr>\n",
    "\n",
    "Using scikit-learn we don't need to worry with **dummy variable trap** since that in the class it will be automatically outcaste. Furthermore, we don't have to apply manually the **backward elimination**, the class will choose the best features to our model."
   ]
  },
  {
   "cell_type": "code",
   "execution_count": 11,
   "metadata": {},
   "outputs": [
    {
     "data": {
      "text/plain": [
       "LinearRegression()"
      ]
     },
     "execution_count": 11,
     "metadata": {},
     "output_type": "execute_result"
    }
   ],
   "source": [
    "from sklearn.linear_model import LinearRegression\n",
    "regressor = LinearRegression()\n",
    "regressor.fit(X_train, y_train)"
   ]
  },
  {
   "cell_type": "markdown",
   "metadata": {},
   "source": [
    "### **Getting the final linear regression equation with the values of the coefficients**"
   ]
  },
  {
   "cell_type": "code",
   "execution_count": 12,
   "metadata": {},
   "outputs": [
    {
     "name": "stdout",
     "output_type": "stream",
     "text": [
      "[-2.19309465e+02  2.65423501e+02 -4.61140364e+01  8.51613579e-01\n",
      " -1.69679775e-03]\n",
      "48663.83653587861\n"
     ]
    }
   ],
   "source": [
    "print(regressor.coef_)\n",
    "print(regressor.intercept_)"
   ]
  },
  {
   "cell_type": "markdown",
   "metadata": {},
   "source": [
    "Therefore, the equation of our multiple linear regression model is:\n",
    "\n",
    "$$\\textrm{Profit} = -219 \\times \\textrm{Dummy State 1} - 265 \\times \\textrm{Dummy State 2} -46.1 \\times \\textrm{Dummy State 3} + 0.852 \\times \\textrm{R&D Spend} - 0.0017 \\times \\textrm{Administration} + 48663.83$$\n",
    "\n",
    "**Important Note:** To get these coefficients we called the \"coef_\" and \"intercept_\" attributes from our regressor object. Attributes in Python are different than methods and usually return a simple value or an array of values."
   ]
  },
  {
   "cell_type": "markdown",
   "metadata": {
    "colab_type": "text",
    "id": "xNkXL1YQBiBT"
   },
   "source": [
    "## **Predicting the Test set results**\n",
    "<hr>"
   ]
  },
  {
   "cell_type": "code",
   "execution_count": 13,
   "metadata": {},
   "outputs": [
    {
     "name": "stdout",
     "output_type": "stream",
     "text": [
      " Y - Test  | Y - Predict\n",
      "[[103282.38 104869.72]\n",
      " [144259.4  134022.39]\n",
      " [146121.95 135532.17]\n",
      " [ 77798.83  72539.51]\n",
      " [191050.39 179430.51]\n",
      " [105008.31 109808.57]\n",
      " [ 81229.06  65733.62]\n",
      " [ 97483.56 100423.19]\n",
      " [110352.25 111735.69]\n",
      " [166187.94 169794.73]]\n"
     ]
    }
   ],
   "source": [
    "y_pred = regressor.predict(X_test)\n",
    "np.set_printoptions(precision=2)\n",
    "print(\" Y - Test  | Y - Predict\")\n",
    "print(np.concatenate((y_test.reshape(len(y_test),1), y_pred.reshape(len(y_pred),1)), axis=1))"
   ]
  },
  {
   "cell_type": "code",
   "execution_count": 14,
   "metadata": {},
   "outputs": [],
   "source": [
    "from sklearn.metrics import r2_score"
   ]
  },
  {
   "cell_type": "code",
   "execution_count": 15,
   "metadata": {},
   "outputs": [
    {
     "data": {
      "text/plain": [
       "0.9477002402859026"
      ]
     },
     "execution_count": 15,
     "metadata": {},
     "output_type": "execute_result"
    }
   ],
   "source": [
    "r2_score(y_test, y_pred)"
   ]
  },
  {
   "cell_type": "markdown",
   "metadata": {},
   "source": [
    "## **Making a single prediction (for example the profit of a startup with R&D Spend = 160000, Administration Spend = 130000, Marketing Spend = 300000 and State = 'California')**\n",
    "<hr>"
   ]
  },
  {
   "cell_type": "code",
   "execution_count": 16,
   "metadata": {},
   "outputs": [
    {
     "name": "stdout",
     "output_type": "stream",
     "text": [
      "[184482.12]\n"
     ]
    }
   ],
   "source": [
    "print(regressor.predict([[1, 0, 0, 160000, 130000]]))"
   ]
  }
 ],
 "metadata": {
  "colab": {
   "authorship_tag": "ABX9TyPhYhte6t7H4wEK4xPpDWT7",
   "name": "Multiple Linear Regression",
   "provenance": [],
   "toc_visible": true
  },
  "kernelspec": {
   "display_name": "Python 3",
   "language": "python",
   "name": "python3"
  },
  "language_info": {
   "codemirror_mode": {
    "name": "ipython",
    "version": 3
   },
   "file_extension": ".py",
   "mimetype": "text/x-python",
   "name": "python",
   "nbconvert_exporter": "python",
   "pygments_lexer": "ipython3",
   "version": "3.8.8"
  }
 },
 "nbformat": 4,
 "nbformat_minor": 4
}
