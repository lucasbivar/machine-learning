{
 "cells": [
  {
   "cell_type": "markdown",
   "id": "444fb5d8-ddba-40c8-aadc-fd9a4d7fdf10",
   "metadata": {},
   "source": [
    "# **Model Evaluation and Selection**\n",
    "<hr>\n",
    "\n",
    "Basically when we are going to build our model, we have to try a lot of algorithsm and choose the model with best metrics, always guaraating low bias and low variance."
   ]
  },
  {
   "cell_type": "markdown",
   "id": "83884a53-58fc-44e4-ac65-301527715053",
   "metadata": {},
   "source": [
    "### **What are Low/High Bias/Variance in Machine Learning?**\n",
    "<hr>\n",
    "\n",
    "- **Low Bias** is when your model predictions are very close to the real values.\n",
    "- **High Bias** is when your model predictions are far from the real values.\n",
    "- **Low Variance:** when you run your model several times, the different predictions of your observation points won’t vary much.\n",
    "- **High Variance:** when you run your model several times, the different predictions of your observation points will vary a lot.\n",
    "\n",
    "**What you want to get when you build a model is: Low Bias and Low Variance.**"
   ]
  },
  {
   "cell_type": "markdown",
   "id": "47aeb8af-7573-44f8-9448-cd38e42fa964",
   "metadata": {},
   "source": [
    "### **Metrics to evaluate regression models**\n",
    "<hr>\n",
    "\n",
    "#### **1) R-Square /Adjusted R-Square**\n",
    "\n",
    "$$\n",
    "R^2 = 1 - \\frac{SS_{Regression}}{SS_{Total}} = 1 - \\frac{\\sum_{i}(y_i-\\hat{y_i})^2}{\\sum_{i}(y_i-\\bar{y})^2}\n",
    "$$\n",
    "\n",
    "R Square measures how much variability in dependent variable can be explained by the model. In other words, **how close the data are to the fitted regression line**. It can be **between 0 to 1** and a **bigger value indicates a better fit** between prediction and actual value.\n",
    "\n",
    "However, it **does not take into consideration of overfitting problem**. If your regression model has many independent variables, because the model is too complicated, it may fit very well to the training data but performs badly for testing data. That is why Adjusted R Square is introduced because it will **penalize additional independent variables** added to the model and **adjust the metric to prevent overfitting issues**, different of normal R-Squared where never decreases, it's always increasing or constant.\n",
    "\n",
    "$$\n",
    "R_{adjusted}^2 = 1 - \\left[\\frac{(1 - R^2)(n-1)}{n-k-1}\\right]\n",
    "$$\n",
    "\n",
    "- **n** is the number of points in your data sample\n",
    "- **k** is the number od independent regressors, i.e the number of variables in your model, excluding the constant.\n",
    "\n",
    "If Adjusted R-Square is roughly the same as R-Square, meaning the model is quite robust."
   ]
  },
  {
   "cell_type": "markdown",
   "id": "ecc8994b-7683-4091-87aa-5e1c896e8da9",
   "metadata": {},
   "source": [
    "#### **2) Mean Square Error(MSE)/Root Mean Square Error(RMSE)**\n",
    "\n",
    "$$\n",
    "MSE = \\frac{1}{N} \\sum_{i=1}^N (y_i - \\hat{y_i})^2\n",
    "$$\n",
    "\n",
    "While R-Square is a relative measure of how well the model fits dependent variables, Mean Square Error is an **absolute measure of the goodness for the fit**. You cannot interpret many insights from one single result but it gives you a real number to compare against other model results and help you select the best regression model.\n",
    "\n",
    "Root Mean Square Error (RMSE) is the square root of MSE. It is **used more commonly** than MSE because firstly sometimes MSE value can be too big to compare easily. Secondly, MSE is calculated by the square of error, and thus **square root brings it back to the same level of prediction error and makes it easier for interpretation**.\n",
    "\n",
    "$$\n",
    "RMSE = \\sqrt{MSE}\n",
    "$$"
   ]
  },
  {
   "cell_type": "markdown",
   "id": "4d962b52-e0c4-4bd0-8887-8a7d9e277276",
   "metadata": {},
   "source": [
    "#### **3) Mean Absolute Error(MAE)**\n",
    "\n",
    "$$\n",
    "MAE = \\frac{1}{N} \\sum_{i=1}^N |y_i - \\hat{y_i}|\n",
    "$$\n",
    "\n",
    "Mean Absolute Error(MAE) is similar to Mean Square Error(MSE). Compare to MSE or RMSE, MAE is a **more direct representation of sum of error terms**. **MSE gives larger penalization to big prediction error by square it** while MAE treats all errors the same."
   ]
  },
  {
   "cell_type": "markdown",
   "id": "222e92a4-efb2-4f88-bfdf-e5f928f03caf",
   "metadata": {},
   "source": [
    "#### **Overall Recommendation**\n",
    "\n",
    "R-Square/Adjusted R-Square is better used to explain the model to other people because you can explain the number as a percentage of the output variability. MSE, RMSE, or MAE are better be used to compare performance between different regression models, mainly the RMSE metric. \n",
    "\n",
    "**REFERENCE:**\n",
    "\n",
    "https://towardsdatascience.com/what-are-the-best-metrics-to-evaluate-your-regression-model-418ca481755b"
   ]
  },
  {
   "cell_type": "markdown",
   "id": "5cef56f0-4a1b-438e-94a4-3d0986e1aed1",
   "metadata": {},
   "source": [
    "### **Basic Model Selection**\n",
    "<hr>\n",
    "\n",
    "The main idea is to apply the same data to several models and choose the model that has the best metrics and work on it.\n",
    "\n",
    "#### **Basic pre-processing**"
   ]
  },
  {
   "cell_type": "code",
   "execution_count": 1,
   "id": "a8c690e6-a14f-4a00-b584-cadc7af186d9",
   "metadata": {},
   "outputs": [],
   "source": [
    "import pandas as pd\n",
    "import numpy as np\n",
    "import seaborn as sns"
   ]
  },
  {
   "cell_type": "code",
   "execution_count": 2,
   "id": "84b2369d-7bff-4fd2-a372-d733d14604ad",
   "metadata": {},
   "outputs": [
    {
     "data": {
      "text/html": [
       "<div>\n",
       "<style scoped>\n",
       "    .dataframe tbody tr th:only-of-type {\n",
       "        vertical-align: middle;\n",
       "    }\n",
       "\n",
       "    .dataframe tbody tr th {\n",
       "        vertical-align: top;\n",
       "    }\n",
       "\n",
       "    .dataframe thead th {\n",
       "        text-align: right;\n",
       "    }\n",
       "</style>\n",
       "<table border=\"1\" class=\"dataframe\">\n",
       "  <thead>\n",
       "    <tr style=\"text-align: right;\">\n",
       "      <th></th>\n",
       "      <th>AT</th>\n",
       "      <th>V</th>\n",
       "      <th>AP</th>\n",
       "      <th>RH</th>\n",
       "      <th>PE</th>\n",
       "    </tr>\n",
       "  </thead>\n",
       "  <tbody>\n",
       "    <tr>\n",
       "      <th>0</th>\n",
       "      <td>14.96</td>\n",
       "      <td>41.76</td>\n",
       "      <td>1024.07</td>\n",
       "      <td>73.17</td>\n",
       "      <td>463.26</td>\n",
       "    </tr>\n",
       "    <tr>\n",
       "      <th>1</th>\n",
       "      <td>25.18</td>\n",
       "      <td>62.96</td>\n",
       "      <td>1020.04</td>\n",
       "      <td>59.08</td>\n",
       "      <td>444.37</td>\n",
       "    </tr>\n",
       "    <tr>\n",
       "      <th>2</th>\n",
       "      <td>5.11</td>\n",
       "      <td>39.40</td>\n",
       "      <td>1012.16</td>\n",
       "      <td>92.14</td>\n",
       "      <td>488.56</td>\n",
       "    </tr>\n",
       "    <tr>\n",
       "      <th>3</th>\n",
       "      <td>20.86</td>\n",
       "      <td>57.32</td>\n",
       "      <td>1010.24</td>\n",
       "      <td>76.64</td>\n",
       "      <td>446.48</td>\n",
       "    </tr>\n",
       "    <tr>\n",
       "      <th>4</th>\n",
       "      <td>10.82</td>\n",
       "      <td>37.50</td>\n",
       "      <td>1009.23</td>\n",
       "      <td>96.62</td>\n",
       "      <td>473.90</td>\n",
       "    </tr>\n",
       "  </tbody>\n",
       "</table>\n",
       "</div>"
      ],
      "text/plain": [
       "      AT      V       AP     RH      PE\n",
       "0  14.96  41.76  1024.07  73.17  463.26\n",
       "1  25.18  62.96  1020.04  59.08  444.37\n",
       "2   5.11  39.40  1012.16  92.14  488.56\n",
       "3  20.86  57.32  1010.24  76.64  446.48\n",
       "4  10.82  37.50  1009.23  96.62  473.90"
      ]
     },
     "execution_count": 2,
     "metadata": {},
     "output_type": "execute_result"
    }
   ],
   "source": [
    "df = pd.read_csv(\"Data.csv\")\n",
    "df.head()"
   ]
  },
  {
   "cell_type": "code",
   "execution_count": 3,
   "id": "fea7d0fe-cda1-4019-baeb-346f0f5ab3f6",
   "metadata": {},
   "outputs": [
    {
     "name": "stdout",
     "output_type": "stream",
     "text": [
      "<class 'pandas.core.frame.DataFrame'>\n",
      "RangeIndex: 9568 entries, 0 to 9567\n",
      "Data columns (total 5 columns):\n",
      " #   Column  Non-Null Count  Dtype  \n",
      "---  ------  --------------  -----  \n",
      " 0   AT      9568 non-null   float64\n",
      " 1   V       9568 non-null   float64\n",
      " 2   AP      9568 non-null   float64\n",
      " 3   RH      9568 non-null   float64\n",
      " 4   PE      9568 non-null   float64\n",
      "dtypes: float64(5)\n",
      "memory usage: 373.9 KB\n"
     ]
    }
   ],
   "source": [
    "df.info()"
   ]
  },
  {
   "cell_type": "code",
   "execution_count": 4,
   "id": "0bc62534-51a1-47c9-bca0-743a405d1fc5",
   "metadata": {},
   "outputs": [
    {
     "data": {
      "text/html": [
       "<div>\n",
       "<style scoped>\n",
       "    .dataframe tbody tr th:only-of-type {\n",
       "        vertical-align: middle;\n",
       "    }\n",
       "\n",
       "    .dataframe tbody tr th {\n",
       "        vertical-align: top;\n",
       "    }\n",
       "\n",
       "    .dataframe thead th {\n",
       "        text-align: right;\n",
       "    }\n",
       "</style>\n",
       "<table border=\"1\" class=\"dataframe\">\n",
       "  <thead>\n",
       "    <tr style=\"text-align: right;\">\n",
       "      <th></th>\n",
       "      <th>AT</th>\n",
       "      <th>V</th>\n",
       "      <th>AP</th>\n",
       "      <th>RH</th>\n",
       "      <th>PE</th>\n",
       "    </tr>\n",
       "  </thead>\n",
       "  <tbody>\n",
       "    <tr>\n",
       "      <th>count</th>\n",
       "      <td>9568.000000</td>\n",
       "      <td>9568.000000</td>\n",
       "      <td>9568.000000</td>\n",
       "      <td>9568.000000</td>\n",
       "      <td>9568.000000</td>\n",
       "    </tr>\n",
       "    <tr>\n",
       "      <th>mean</th>\n",
       "      <td>19.651231</td>\n",
       "      <td>54.305804</td>\n",
       "      <td>1013.259078</td>\n",
       "      <td>73.308978</td>\n",
       "      <td>454.365009</td>\n",
       "    </tr>\n",
       "    <tr>\n",
       "      <th>std</th>\n",
       "      <td>7.452473</td>\n",
       "      <td>12.707893</td>\n",
       "      <td>5.938784</td>\n",
       "      <td>14.600269</td>\n",
       "      <td>17.066995</td>\n",
       "    </tr>\n",
       "    <tr>\n",
       "      <th>min</th>\n",
       "      <td>1.810000</td>\n",
       "      <td>25.360000</td>\n",
       "      <td>992.890000</td>\n",
       "      <td>25.560000</td>\n",
       "      <td>420.260000</td>\n",
       "    </tr>\n",
       "    <tr>\n",
       "      <th>25%</th>\n",
       "      <td>13.510000</td>\n",
       "      <td>41.740000</td>\n",
       "      <td>1009.100000</td>\n",
       "      <td>63.327500</td>\n",
       "      <td>439.750000</td>\n",
       "    </tr>\n",
       "    <tr>\n",
       "      <th>50%</th>\n",
       "      <td>20.345000</td>\n",
       "      <td>52.080000</td>\n",
       "      <td>1012.940000</td>\n",
       "      <td>74.975000</td>\n",
       "      <td>451.550000</td>\n",
       "    </tr>\n",
       "    <tr>\n",
       "      <th>75%</th>\n",
       "      <td>25.720000</td>\n",
       "      <td>66.540000</td>\n",
       "      <td>1017.260000</td>\n",
       "      <td>84.830000</td>\n",
       "      <td>468.430000</td>\n",
       "    </tr>\n",
       "    <tr>\n",
       "      <th>max</th>\n",
       "      <td>37.110000</td>\n",
       "      <td>81.560000</td>\n",
       "      <td>1033.300000</td>\n",
       "      <td>100.160000</td>\n",
       "      <td>495.760000</td>\n",
       "    </tr>\n",
       "  </tbody>\n",
       "</table>\n",
       "</div>"
      ],
      "text/plain": [
       "                AT            V           AP           RH           PE\n",
       "count  9568.000000  9568.000000  9568.000000  9568.000000  9568.000000\n",
       "mean     19.651231    54.305804  1013.259078    73.308978   454.365009\n",
       "std       7.452473    12.707893     5.938784    14.600269    17.066995\n",
       "min       1.810000    25.360000   992.890000    25.560000   420.260000\n",
       "25%      13.510000    41.740000  1009.100000    63.327500   439.750000\n",
       "50%      20.345000    52.080000  1012.940000    74.975000   451.550000\n",
       "75%      25.720000    66.540000  1017.260000    84.830000   468.430000\n",
       "max      37.110000    81.560000  1033.300000   100.160000   495.760000"
      ]
     },
     "execution_count": 4,
     "metadata": {},
     "output_type": "execute_result"
    }
   ],
   "source": [
    "df.describe()"
   ]
  },
  {
   "cell_type": "code",
   "execution_count": 5,
   "id": "dacd1bf4-c5f2-4a93-90b7-3970617e507e",
   "metadata": {},
   "outputs": [
    {
     "data": {
      "text/plain": [
       "<AxesSubplot:>"
      ]
     },
     "execution_count": 5,
     "metadata": {},
     "output_type": "execute_result"
    },
    {
     "data": {
      "image/png": "[encoded data removed]",
      "text/plain": [
       "<Figure size 432x288 with 2 Axes>"
      ]
     },
     "metadata": {
      "needs_background": "light"
     },
     "output_type": "display_data"
    }
   ],
   "source": [
    "corr = df.corr()\n",
    "sns.heatmap(corr, annot=True, cmap=\"coolwarm\")"
   ]
  },
  {
   "cell_type": "code",
   "execution_count": 6,
   "id": "e28ef860-76b4-4618-8a5e-d4eae0ee13e1",
   "metadata": {},
   "outputs": [
    {
     "name": "stdout",
     "output_type": "stream",
     "text": [
      "[[  14.96   41.76 1024.07   73.17]\n",
      " [  25.18   62.96 1020.04   59.08]\n",
      " [   5.11   39.4  1012.16   92.14]\n",
      " ...\n",
      " [  31.32   74.33 1012.92   36.48]\n",
      " [  24.48   69.45 1013.86   62.39]\n",
      " [  21.6    62.52 1017.23   67.87]]\n"
     ]
    }
   ],
   "source": [
    "X = df.iloc[:, :-1].values\n",
    "print(X)"
   ]
  },
  {
   "cell_type": "code",
   "execution_count": 7,
   "id": "f8847383-924c-48f5-9e38-4b5d2968ba43",
   "metadata": {},
   "outputs": [
    {
     "name": "stdout",
     "output_type": "stream",
     "text": [
      "[[463.26]\n",
      " [444.37]\n",
      " [488.56]\n",
      " ...\n",
      " [429.57]\n",
      " [435.74]\n",
      " [453.28]]\n"
     ]
    }
   ],
   "source": [
    "y = df.iloc[:, -1:].values\n",
    "print(y)"
   ]
  },
  {
   "cell_type": "code",
   "execution_count": 8,
   "id": "b611ed41-f760-42ec-a10e-46fd60ae889c",
   "metadata": {},
   "outputs": [],
   "source": [
    "from sklearn.model_selection import train_test_split\n",
    "\n",
    "X_train, X_test, y_train, y_test = train_test_split(X, y, random_state=0, test_size=0.2)"
   ]
  },
  {
   "cell_type": "markdown",
   "id": "e7d29cbb-2037-405a-bf09-b443ea5efb8d",
   "metadata": {},
   "source": [
    "#### **Function to calculate the most used regression metrics**"
   ]
  },
  {
   "cell_type": "code",
   "execution_count": 9,
   "id": "ae0d6178-a402-48e0-9edd-a31caead8079",
   "metadata": {},
   "outputs": [],
   "source": [
    "from sklearn.metrics import r2_score, mean_squared_error, mean_absolute_error\n",
    "from math import sqrt\n",
    "\n",
    "def metrics(y_true, y_pred, X, y):\n",
    "    r_s = r2_score(y_true, y_pred)\n",
    "    adjusted_r_s = 1 - ((1-r_s)*(len(y)-1)/(len(y)-X.shape[1]-1))\n",
    "    mse = mean_squared_error(y_true, y_pred)\n",
    "    rmse = sqrt(mse)\n",
    "    mae = mean_absolute_error(y_true, y_pred)\n",
    "    \n",
    "    print(f\"R-Squared: {r_s:.3f} | Adjusted R-Squared: {adjusted_r_s:.3f}\"\\\n",
    "          f\" | MSE: {mse:.3f} | RMSE: {rmse:.3f} | MAE: {mae:.3f}\")\n",
    "    "
   ]
  },
  {
   "cell_type": "markdown",
   "id": "408f6a65-af1f-4ca9-944c-99ac5edeac72",
   "metadata": {},
   "source": [
    "#### **Trying several regression models**"
   ]
  },
  {
   "cell_type": "markdown",
   "id": "e90f00a8-5726-427f-a012-fd15cbb7e134",
   "metadata": {},
   "source": [
    "##### **Linear Regression**"
   ]
  },
  {
   "cell_type": "code",
   "execution_count": 10,
   "id": "2c7c2412-3a69-4a27-8647-975087dab092",
   "metadata": {},
   "outputs": [
    {
     "name": "stdout",
     "output_type": "stream",
     "text": [
      "R-Squared: 0.933 | Adjusted R-Squared: 0.932 | MSE: 19.734 | RMSE: 4.442 | MAE: 3.567\n"
     ]
    }
   ],
   "source": [
    "from sklearn.linear_model import LinearRegression\n",
    "\n",
    "linear_regressor = LinearRegression()\n",
    "linear_regressor.fit(X_train, y_train)\n",
    "\n",
    "y_pred = linear_regressor.predict(X_test)\n",
    "\n",
    "metrics(y_test, y_pred, X_train, y_train)"
   ]
  },
  {
   "cell_type": "markdown",
   "id": "dfd19421-b2c4-4e5a-8285-62584714176f",
   "metadata": {},
   "source": [
    "##### **Polynomial Regression**"
   ]
  },
  {
   "cell_type": "code",
   "execution_count": 11,
   "id": "1d1f9f09-6c34-416f-ac24-668405cbba72",
   "metadata": {},
   "outputs": [
    {
     "name": "stdout",
     "output_type": "stream",
     "text": [
      "R-Squared: 0.946 | Adjusted R-Squared: 0.946 | MSE: 15.847 | RMSE: 3.981 | MAE: 3.136\n"
     ]
    }
   ],
   "source": [
    "from sklearn.preprocessing import PolynomialFeatures\n",
    "\n",
    "poly_reg = PolynomialFeatures(degree=4)\n",
    "X_poly = poly_reg.fit_transform(X_train)\n",
    "\n",
    "linear_regressor = LinearRegression()\n",
    "linear_regressor.fit(X_poly, y_train)\n",
    "\n",
    "y_pred = linear_regressor.predict(poly_reg.fit_transform(X_test))\n",
    "\n",
    "metrics(y_test, y_pred, X_train, y_train)"
   ]
  },
  {
   "cell_type": "markdown",
   "id": "b38e42a6-313c-46d4-b029-68d016c6e2e0",
   "metadata": {},
   "source": [
    "##### **Decision Tree Regression**"
   ]
  },
  {
   "cell_type": "code",
   "execution_count": 12,
   "id": "1f6dccea-3561-4d30-8ecf-30cc46783544",
   "metadata": {},
   "outputs": [
    {
     "name": "stdout",
     "output_type": "stream",
     "text": [
      "R-Squared: 0.923 | Adjusted R-Squared: 0.923 | MSE: 22.549 | RMSE: 4.749 | MAE: 3.104\n"
     ]
    }
   ],
   "source": [
    "from sklearn.tree import DecisionTreeRegressor\n",
    "\n",
    "dtr_regressor = DecisionTreeRegressor(random_state=0)\n",
    "dtr_regressor.fit(X_train, y_train)\n",
    "\n",
    "y_pred = dtr_regressor.predict(X_test)\n",
    "\n",
    "metrics(y_test, y_pred, X_train, y_train)"
   ]
  },
  {
   "cell_type": "markdown",
   "id": "e77bf79c-e5b5-4d65-9168-28d50044fd71",
   "metadata": {},
   "source": [
    "##### **Random Forest Regression**"
   ]
  },
  {
   "cell_type": "code",
   "execution_count": 13,
   "id": "f8c30484-d419-4b84-863d-0f0728366b88",
   "metadata": {},
   "outputs": [
    {
     "name": "stdout",
     "output_type": "stream",
     "text": [
      "R-Squared: 0.965 | Adjusted R-Squared: 0.965 | MSE: 10.253 | RMSE: 3.202 | MAE: 2.350\n"
     ]
    }
   ],
   "source": [
    "from sklearn.ensemble import RandomForestRegressor\n",
    "\n",
    "rfr_regressor = RandomForestRegressor(n_estimators=64, random_state=0)\n",
    "rfr_regressor.fit(X_train, y_train.reshape(len(y_train), ))\n",
    "\n",
    "y_pred = rfr_regressor.predict(X_test)\n",
    "metrics(y_test, y_pred, X_train, y_train)"
   ]
  },
  {
   "cell_type": "markdown",
   "id": "9f57bf31-4ad8-46fe-bfd0-524a591920a3",
   "metadata": {},
   "source": [
    "##### **Support Vector Regression**"
   ]
  },
  {
   "cell_type": "markdown",
   "id": "358723bc-48f9-41f8-956d-1245a6382194",
   "metadata": {},
   "source": [
    "Applying Feature Scaling before training"
   ]
  },
  {
   "cell_type": "code",
   "execution_count": 14,
   "id": "55586d07-6185-41fc-aec4-bb4a178b87e4",
   "metadata": {},
   "outputs": [],
   "source": [
    "from sklearn.preprocessing import StandardScaler\n",
    "\n",
    "sc_X = StandardScaler()\n",
    "X_train_fs = sc_X.fit_transform(X_train)\n",
    "\n",
    "sc_y = StandardScaler()\n",
    "y_train_fs = sc_y.fit_transform(y_train)"
   ]
  },
  {
   "cell_type": "code",
   "execution_count": 15,
   "id": "6ef52d96-b17d-4c60-a307-ba186e39f2b3",
   "metadata": {},
   "outputs": [
    {
     "name": "stdout",
     "output_type": "stream",
     "text": [
      "R-Squared: 0.948 | Adjusted R-Squared: 0.948 | MSE: 15.186 | RMSE: 3.897 | MAE: 2.995\n"
     ]
    }
   ],
   "source": [
    "from sklearn.svm import SVR\n",
    "\n",
    "svr_regressor = SVR(kernel=\"rbf\")\n",
    "svr_regressor.fit(X_train_fs, y_train_fs.reshape(len(y_train_fs),))\n",
    "\n",
    "y_pred = sc_y.inverse_transform(svr_regressor.predict(sc_X.transform(X_test)))\n",
    "\n",
    "metrics(y_test, y_pred, X_train, y_train)"
   ]
  },
  {
   "cell_type": "markdown",
   "id": "ffe199e6-1dcb-452c-85eb-7e6ee0296bc9",
   "metadata": {},
   "source": [
    "---\n",
    "\n",
    "#### **Conclusion**\n",
    "\n",
    "The model with the best metrics was **Random Forest Regression** with the below metrics:\n",
    "R-Squared: 0.965 | Adjusted R-Squared: 0.965 | MSE: 10.253 | RMSE: 3.202 | MAE: 2.350\n",
    "\n",
    "Based on R-Squared, using Random Forest Regression, 96% of the test data fit well the regression model."
   ]
  }
 ],
 "metadata": {
  "kernelspec": {
   "display_name": "Python 3",
   "language": "python",
   "name": "python3"
  },
  "language_info": {
   "codemirror_mode": {
    "name": "ipython",
    "version": 3
   },
   "file_extension": ".py",
   "mimetype": "text/x-python",
   "name": "python",
   "nbconvert_exporter": "python",
   "pygments_lexer": "ipython3",
   "version": "3.8.8"
  }
 },
 "nbformat": 4,
 "nbformat_minor": 5
}
